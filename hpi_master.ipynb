{
 "cells": [
  {
   "cell_type": "code",
   "execution_count": 2,
   "id": "b3d76129-2f8a-48fb-8d89-5d01a2ac4fb0",
   "metadata": {},
   "outputs": [],
   "source": [
    "import os\n",
    "import pandas as pd\n",
    "import csv\n",
    "import numpy as np\n",
    "import matplotlib.pyplot as plt\n",
    "import scipy as st\n",
    "import seaborn as sns"
   ]
  },
  {
   "cell_type": "code",
   "execution_count": 3,
   "id": "44982ad2-ed20-4a94-837e-4251386bef1f",
   "metadata": {},
   "outputs": [
    {
     "data": {
      "text/html": [
       "<div>\n",
       "<style scoped>\n",
       "    .dataframe tbody tr th:only-of-type {\n",
       "        vertical-align: middle;\n",
       "    }\n",
       "\n",
       "    .dataframe tbody tr th {\n",
       "        vertical-align: top;\n",
       "    }\n",
       "\n",
       "    .dataframe thead th {\n",
       "        text-align: right;\n",
       "    }\n",
       "</style>\n",
       "<table border=\"1\" class=\"dataframe\">\n",
       "  <thead>\n",
       "    <tr style=\"text-align: right;\">\n",
       "      <th></th>\n",
       "      <th>hpi_type</th>\n",
       "      <th>hpi_flavor</th>\n",
       "      <th>frequency</th>\n",
       "      <th>level</th>\n",
       "      <th>place_name</th>\n",
       "      <th>place_id</th>\n",
       "      <th>yr</th>\n",
       "      <th>period</th>\n",
       "      <th>index_nsa</th>\n",
       "      <th>index_sa</th>\n",
       "    </tr>\n",
       "  </thead>\n",
       "  <tbody>\n",
       "    <tr>\n",
       "      <th>0</th>\n",
       "      <td>traditional</td>\n",
       "      <td>purchase-only</td>\n",
       "      <td>monthly</td>\n",
       "      <td>USA or Census Division</td>\n",
       "      <td>East North Central Division</td>\n",
       "      <td>DV_ENC</td>\n",
       "      <td>1991</td>\n",
       "      <td>1</td>\n",
       "      <td>100.00</td>\n",
       "      <td>100.00</td>\n",
       "    </tr>\n",
       "    <tr>\n",
       "      <th>1</th>\n",
       "      <td>traditional</td>\n",
       "      <td>purchase-only</td>\n",
       "      <td>monthly</td>\n",
       "      <td>USA or Census Division</td>\n",
       "      <td>East North Central Division</td>\n",
       "      <td>DV_ENC</td>\n",
       "      <td>1991</td>\n",
       "      <td>2</td>\n",
       "      <td>101.03</td>\n",
       "      <td>101.11</td>\n",
       "    </tr>\n",
       "    <tr>\n",
       "      <th>2</th>\n",
       "      <td>traditional</td>\n",
       "      <td>purchase-only</td>\n",
       "      <td>monthly</td>\n",
       "      <td>USA or Census Division</td>\n",
       "      <td>East North Central Division</td>\n",
       "      <td>DV_ENC</td>\n",
       "      <td>1991</td>\n",
       "      <td>3</td>\n",
       "      <td>101.40</td>\n",
       "      <td>101.08</td>\n",
       "    </tr>\n",
       "  </tbody>\n",
       "</table>\n",
       "</div>"
      ],
      "text/plain": [
       "      hpi_type     hpi_flavor frequency                   level  \\\n",
       "0  traditional  purchase-only   monthly  USA or Census Division   \n",
       "1  traditional  purchase-only   monthly  USA or Census Division   \n",
       "2  traditional  purchase-only   monthly  USA or Census Division   \n",
       "\n",
       "                    place_name place_id    yr  period  index_nsa  index_sa  \n",
       "0  East North Central Division   DV_ENC  1991       1     100.00    100.00  \n",
       "1  East North Central Division   DV_ENC  1991       2     101.03    101.11  \n",
       "2  East North Central Division   DV_ENC  1991       3     101.40    101.08  "
      ]
     },
     "execution_count": 3,
     "metadata": {},
     "output_type": "execute_result"
    }
   ],
   "source": [
    "df_hpi = pd.read_csv(\"HPI_master.csv\")\n",
    "df_hpi.head(3)"
   ]
  },
  {
   "cell_type": "code",
   "execution_count": 4,
   "id": "4d374b24-c8c0-4639-996d-0ab95e8adb0d",
   "metadata": {},
   "outputs": [
    {
     "name": "stdout",
     "output_type": "stream",
     "text": [
      "<class 'pandas.core.frame.DataFrame'>\n",
      "RangeIndex: 99325 entries, 0 to 99324\n",
      "Data columns (total 10 columns):\n",
      " #   Column      Non-Null Count  Dtype  \n",
      "---  ------      --------------  -----  \n",
      " 0   hpi_type    99325 non-null  object \n",
      " 1   hpi_flavor  99325 non-null  object \n",
      " 2   frequency   99325 non-null  object \n",
      " 3   level       99325 non-null  object \n",
      " 4   place_name  99325 non-null  object \n",
      " 5   place_id    99325 non-null  object \n",
      " 6   yr          99325 non-null  int64  \n",
      " 7   period      99325 non-null  int64  \n",
      " 8   index_nsa   99323 non-null  float64\n",
      " 9   index_sa    32134 non-null  float64\n",
      "dtypes: float64(2), int64(2), object(6)\n",
      "memory usage: 7.6+ MB\n"
     ]
    }
   ],
   "source": [
    "df_hpi.info()"
   ]
  },
  {
   "cell_type": "code",
   "execution_count": 5,
   "id": "93eedb62-601d-4760-923d-127962f1e18e",
   "metadata": {},
   "outputs": [],
   "source": [
    "#re_arrange the and select variables variables\n",
    "df_hpi=df_hpi[[\"hpi_type\",\"hpi_flavor\",\"frequency\",\"level\",\"index_sa\",\"index_nsa\"]]"
   ]
  },
  {
   "cell_type": "code",
   "execution_count": 6,
   "id": "c2290ead-ebc9-43c9-9967-bd1371dc8cc4",
   "metadata": {},
   "outputs": [
    {
     "data": {
      "text/html": [
       "<div>\n",
       "<style scoped>\n",
       "    .dataframe tbody tr th:only-of-type {\n",
       "        vertical-align: middle;\n",
       "    }\n",
       "\n",
       "    .dataframe tbody tr th {\n",
       "        vertical-align: top;\n",
       "    }\n",
       "\n",
       "    .dataframe thead th {\n",
       "        text-align: right;\n",
       "    }\n",
       "</style>\n",
       "<table border=\"1\" class=\"dataframe\">\n",
       "  <thead>\n",
       "    <tr style=\"text-align: right;\">\n",
       "      <th></th>\n",
       "      <th>hpi_type</th>\n",
       "      <th>hpi_flavor</th>\n",
       "      <th>frequency</th>\n",
       "      <th>level</th>\n",
       "      <th>index_sa</th>\n",
       "      <th>index_nsa</th>\n",
       "    </tr>\n",
       "  </thead>\n",
       "  <tbody>\n",
       "    <tr>\n",
       "      <th>0</th>\n",
       "      <td>traditional</td>\n",
       "      <td>purchase-only</td>\n",
       "      <td>monthly</td>\n",
       "      <td>USA or Census Division</td>\n",
       "      <td>100.0</td>\n",
       "      <td>100.0</td>\n",
       "    </tr>\n",
       "  </tbody>\n",
       "</table>\n",
       "</div>"
      ],
      "text/plain": [
       "      hpi_type     hpi_flavor frequency                   level  index_sa  \\\n",
       "0  traditional  purchase-only   monthly  USA or Census Division     100.0   \n",
       "\n",
       "   index_nsa  \n",
       "0      100.0  "
      ]
     },
     "execution_count": 6,
     "metadata": {},
     "output_type": "execute_result"
    }
   ],
   "source": [
    "df_hpi.head(1)"
   ]
  },
  {
   "cell_type": "code",
   "execution_count": 7,
   "id": "cea27fd2-9376-4084-b62e-2cf1a7f999df",
   "metadata": {},
   "outputs": [],
   "source": [
    "df_hpi.dropna(inplace =True)"
   ]
  },
  {
   "cell_type": "code",
   "execution_count": 8,
   "id": "cd88596e-60cc-4f3a-85d6-477d1737bfa9",
   "metadata": {},
   "outputs": [
    {
     "data": {
      "text/plain": [
       "hpi_type      0\n",
       "hpi_flavor    0\n",
       "frequency     0\n",
       "level         0\n",
       "index_sa      0\n",
       "index_nsa     0\n",
       "dtype: int64"
      ]
     },
     "execution_count": 8,
     "metadata": {},
     "output_type": "execute_result"
    }
   ],
   "source": [
    "df_hpi.isnull().sum() # missing values are taken care of"
   ]
  },
  {
   "cell_type": "code",
   "execution_count": 9,
   "id": "489d682f-3eae-4e39-99a9-275f967156e9",
   "metadata": {},
   "outputs": [
    {
     "name": "stdout",
     "output_type": "stream",
     "text": [
      "<class 'pandas.core.frame.DataFrame'>\n",
      "Index: 32134 entries, 0 to 99324\n",
      "Data columns (total 6 columns):\n",
      " #   Column      Non-Null Count  Dtype  \n",
      "---  ------      --------------  -----  \n",
      " 0   hpi_type    32134 non-null  object \n",
      " 1   hpi_flavor  32134 non-null  object \n",
      " 2   frequency   32134 non-null  object \n",
      " 3   level       32134 non-null  object \n",
      " 4   index_sa    32134 non-null  float64\n",
      " 5   index_nsa   32134 non-null  float64\n",
      "dtypes: float64(2), object(4)\n",
      "memory usage: 1.7+ MB\n"
     ]
    }
   ],
   "source": [
    "df_hpi.info()"
   ]
  },
  {
   "cell_type": "code",
   "execution_count": 10,
   "id": "87777644-709d-4dff-8dbd-5603abf03ccc",
   "metadata": {},
   "outputs": [
    {
     "data": {
      "image/png": "[encoded data removed]",
      "text/plain": [
       "<Figure size 640x480 with 2 Axes>"
      ]
     },
     "metadata": {},
     "output_type": "display_data"
    }
   ],
   "source": [
    "#lets plot the continous variables  \n",
    "df_hpi.hist(rwidth =0.9)\n",
    "plt.tight_layout()"
   ]
  },
  {
   "cell_type": "code",
   "execution_count": 11,
   "id": "53827f15-3001-4e03-a8cb-2cfd85efc64c",
   "metadata": {},
   "outputs": [],
   "source": [
    "#visualise the continous features vs index_nsa"
   ]
  },
  {
   "cell_type": "code",
   "execution_count": 12,
   "id": "51c58a5f-ef2a-4d81-8939-ed20c6c26c0a",
   "metadata": {},
   "outputs": [
    {
     "data": {
      "image/png": "[encoded data removed]",
      "text/plain": [
       "<Figure size 640x480 with 1 Axes>"
      ]
     },
     "metadata": {},
     "output_type": "display_data"
    }
   ],
   "source": [
    "plt.scatter(df_hpi[\"index_nsa\"],df_hpi[\"index_sa\"],s=2)\n",
    "plt.title(\"index_nsa vs index_sa\")\n",
    "plt.tight_layout()\n",
    "plt.show()"
   ]
  },
  {
   "cell_type": "code",
   "execution_count": 13,
   "id": "db7fc900-5d78-4616-be50-998ec9f97ee9",
   "metadata": {},
   "outputs": [
    {
     "name": "stdout",
     "output_type": "stream",
     "text": [
      "<class 'pandas.core.frame.DataFrame'>\n",
      "Index: 32134 entries, 0 to 99324\n",
      "Data columns (total 6 columns):\n",
      " #   Column      Non-Null Count  Dtype   \n",
      "---  ------      --------------  -----   \n",
      " 0   hpi_type    32134 non-null  category\n",
      " 1   hpi_flavor  32134 non-null  category\n",
      " 2   frequency   32134 non-null  category\n",
      " 3   level       32134 non-null  category\n",
      " 4   index_sa    32134 non-null  float64 \n",
      " 5   index_nsa   32134 non-null  float64 \n",
      "dtypes: category(4), float64(2)\n",
      "memory usage: 879.2 KB\n"
     ]
    }
   ],
   "source": [
    "#plot the categorical variables vs index_nsa\n",
    "df_hpi[\"hpi_type\"] = df_hpi[\"hpi_type\"].astype('category')\n",
    "df_hpi[\"hpi_flavor\"] = df_hpi[\"hpi_flavor\"].astype('category')\n",
    "df_hpi[\"frequency\"] = df_hpi[\"frequency\"].astype('category')\n",
    "df_hpi[\"level\"] = df_hpi['level'].astype('category')\n",
    "\n",
    "df_hpi.info()"
   ]
  },
  {
   "cell_type": "code",
   "execution_count": 14,
   "id": "0dd93a8d-d5d9-46f0-bada-ea332c5c6499",
   "metadata": {},
   "outputs": [
    {
     "name": "stderr",
     "output_type": "stream",
     "text": [
      "/var/folders/gp/c0qhc5111qnf4x_rmyt962br0000gn/T/ipykernel_25209/387089031.py:4: FutureWarning: The default of observed=False is deprecated and will be changed to True in a future version of pandas. Pass observed=False to retain current behavior or observed=True to adopt the future default and silence this warning.\n",
      "  cat_average =df_hpi.groupby(\"hpi_type\")[\"index_nsa\"].mean()\n"
     ]
    }
   ],
   "source": [
    "#create list of unique hpi_type values\n",
    "cat_list=df_hpi[\"hpi_type\"].unique()\n",
    "#create average index_nsa per hpi_type using groupby\n",
    "cat_average =df_hpi.groupby(\"hpi_type\")[\"index_nsa\"].mean()"
   ]
  },
  {
   "cell_type": "code",
   "execution_count": 15,
   "id": "9fe73cfc-b64f-4f10-a4b8-b3fb0dad718e",
   "metadata": {},
   "outputs": [
    {
     "data": {
      "text/plain": [
       "hpi_type\n",
       "developmental    162.855465\n",
       "distress-free    178.795735\n",
       "traditional      167.439215\n",
       "Name: index_nsa, dtype: float64"
      ]
     },
     "execution_count": 15,
     "metadata": {},
     "output_type": "execute_result"
    }
   ],
   "source": [
    "cat_average"
   ]
  },
  {
   "cell_type": "code",
   "execution_count": 16,
   "id": "195ca73a-fa92-49fd-8945-af65cda0bbc4",
   "metadata": {},
   "outputs": [
    {
     "data": {
      "text/plain": [
       "<BarContainer object of 3 artists>"
      ]
     },
     "execution_count": 16,
     "metadata": {},
     "output_type": "execute_result"
    },
    {
     "data": {
      "image/png": "[encoded data removed]",
      "text/plain": [
       "<Figure size 640x480 with 1 Axes>"
      ]
     },
     "metadata": {},
     "output_type": "display_data"
    }
   ],
   "source": [
    "plt.bar(cat_list,cat_average)"
   ]
  },
  {
   "cell_type": "code",
   "execution_count": 17,
   "id": "60d0538a-9850-461b-b9c8-3e96a93a17c9",
   "metadata": {},
   "outputs": [
    {
     "name": "stderr",
     "output_type": "stream",
     "text": [
      "/var/folders/gp/c0qhc5111qnf4x_rmyt962br0000gn/T/ipykernel_25209/3597879753.py:7: FutureWarning: The default of observed=False is deprecated and will be changed to True in a future version of pandas. Pass observed=False to retain current behavior or observed=True to adopt the future default and silence this warning.\n",
      "  cat_average=df_hpi.groupby(\"hpi_type\")[\"index_nsa\"].mean()\n"
     ]
    },
    {
     "data": {
      "text/plain": [
       "<BarContainer object of 3 artists>"
      ]
     },
     "execution_count": 17,
     "metadata": {},
     "output_type": "execute_result"
    },
    {
     "data": {
      "image/png": "[encoded data removed]",
      "text/plain": [
       "<Figure size 640x480 with 1 Axes>"
      ]
     },
     "metadata": {},
     "output_type": "display_data"
    }
   ],
   "source": [
    "#create a 2x2 subplot\n",
    "plt.subplot(2,2,1)\n",
    "\n",
    "plt.title(\"Averge Index_nsa Per Hpi_Type\")\n",
    "cat_list = df_hpi[\"hpi_type\"].unique()\n",
    "#create an image\n",
    "cat_average=df_hpi.groupby(\"hpi_type\")[\"index_nsa\"].mean()\n",
    "colors = [\"g\",\"r\",\"m\"]\n",
    "plt.bar(cat_list,cat_average,color =colors)\n",
    "\n"
   ]
  },
  {
   "cell_type": "code",
   "execution_count": 18,
   "id": "8b3cbd63-55cb-40c1-ab6a-ce64f9f7afac",
   "metadata": {},
   "outputs": [
    {
     "name": "stderr",
     "output_type": "stream",
     "text": [
      "/var/folders/gp/c0qhc5111qnf4x_rmyt962br0000gn/T/ipykernel_25209/2019485177.py:4: FutureWarning: The default of observed=False is deprecated and will be changed to True in a future version of pandas. Pass observed=False to retain current behavior or observed=True to adopt the future default and silence this warning.\n",
      "  cat_average =df_hpi.groupby(\"hpi_flavor\")[\"index_nsa\"].mean()\n"
     ]
    },
    {
     "data": {
      "text/plain": [
       "<BarContainer object of 2 artists>"
      ]
     },
     "execution_count": 18,
     "metadata": {},
     "output_type": "execute_result"
    },
    {
     "data": {
      "image/png": "[encoded data removed]",
      "text/plain": [
       "<Figure size 640x480 with 1 Axes>"
      ]
     },
     "metadata": {},
     "output_type": "display_data"
    }
   ],
   "source": [
    "plt.subplot(2,2,2)\n",
    "plt.title(\"Average index_nsa per hpi_flavor\")\n",
    "cat_list = df_hpi[\"hpi_flavor\"].unique()\n",
    "cat_average =df_hpi.groupby(\"hpi_flavor\")[\"index_nsa\"].mean()\n",
    "plt.bar(cat_list,cat_average, color = colors)\n"
   ]
  },
  {
   "cell_type": "code",
   "execution_count": 19,
   "id": "d128fcee-7496-43d4-a8eb-6b4172278e36",
   "metadata": {},
   "outputs": [
    {
     "name": "stderr",
     "output_type": "stream",
     "text": [
      "/var/folders/gp/c0qhc5111qnf4x_rmyt962br0000gn/T/ipykernel_25209/1268040384.py:4: FutureWarning: The default of observed=False is deprecated and will be changed to True in a future version of pandas. Pass observed=False to retain current behavior or observed=True to adopt the future default and silence this warning.\n",
      "  cat_average =df_hpi.groupby(\"frequency\")[\"index_nsa\"].mean()\n"
     ]
    },
    {
     "data": {
      "text/plain": [
       "<BarContainer object of 2 artists>"
      ]
     },
     "execution_count": 19,
     "metadata": {},
     "output_type": "execute_result"
    },
    {
     "data": {
      "image/png": "[encoded data removed]",
      "text/plain": [
       "<Figure size 640x480 with 1 Axes>"
      ]
     },
     "metadata": {},
     "output_type": "display_data"
    }
   ],
   "source": [
    "plt.subplot(2,2,3)\n",
    "plt.title(\"Average index_nsa per frequency\")\n",
    "cat_list =df_hpi[\"frequency\"].unique()\n",
    "cat_average =df_hpi.groupby(\"frequency\")[\"index_nsa\"].mean()\n",
    "plt.bar(cat_list,cat_average,color =colors)\n"
   ]
  },
  {
   "cell_type": "code",
   "execution_count": 20,
   "id": "9a9ae701-dc01-485b-8e43-1a28164e72a0",
   "metadata": {},
   "outputs": [
    {
     "name": "stderr",
     "output_type": "stream",
     "text": [
      "/var/folders/gp/c0qhc5111qnf4x_rmyt962br0000gn/T/ipykernel_25209/718831323.py:4: FutureWarning: The default of observed=False is deprecated and will be changed to True in a future version of pandas. Pass observed=False to retain current behavior or observed=True to adopt the future default and silence this warning.\n",
      "  cat_average =df_hpi.groupby(\"level\")[\"index_nsa\"].mean()\n"
     ]
    },
    {
     "data": {
      "text/plain": [
       "<BarContainer object of 4 artists>"
      ]
     },
     "execution_count": 20,
     "metadata": {},
     "output_type": "execute_result"
    },
    {
     "data": {
      "image/png": "[encoded data removed]",
      "text/plain": [
       "<Figure size 640x480 with 1 Axes>"
      ]
     },
     "metadata": {},
     "output_type": "display_data"
    }
   ],
   "source": [
    "plt.subplot(2,2,4)\n",
    "plt.title(\"Average index_nsa per level\")\n",
    "cat_list =df_hpi[\"level\"].unique()\n",
    "cat_average =df_hpi.groupby(\"level\")[\"index_nsa\"].mean()\n",
    "plt.bar(cat_list,cat_average,color =colors)\n"
   ]
  },
  {
   "cell_type": "code",
   "execution_count": null,
   "id": "809c01c7-d832-43bd-ad8f-2dc2c70a46cd",
   "metadata": {},
   "outputs": [],
   "source": []
  },
  {
   "cell_type": "code",
   "execution_count": 21,
   "id": "f2b9842b-3783-4059-a504-65297edf26c1",
   "metadata": {},
   "outputs": [
    {
     "data": {
      "text/plain": [
       "<Figure size 640x480 with 0 Axes>"
      ]
     },
     "metadata": {},
     "output_type": "display_data"
    }
   ],
   "source": [
    "#Split the Data into Training and Testing \n",
    "X=df_hpi.iloc[:,:-1] #Independent variables\n",
    "Y=df_hpi.iloc[:,-1]# dependent variables\n",
    "plt.tight_layout()"
   ]
  },
  {
   "cell_type": "code",
   "execution_count": 22,
   "id": "0849b546-ad7a-4705-ac3b-64f6fd273d8b",
   "metadata": {},
   "outputs": [
    {
     "data": {
      "text/html": [
       "<div>\n",
       "<style scoped>\n",
       "    .dataframe tbody tr th:only-of-type {\n",
       "        vertical-align: middle;\n",
       "    }\n",
       "\n",
       "    .dataframe tbody tr th {\n",
       "        vertical-align: top;\n",
       "    }\n",
       "\n",
       "    .dataframe thead th {\n",
       "        text-align: right;\n",
       "    }\n",
       "</style>\n",
       "<table border=\"1\" class=\"dataframe\">\n",
       "  <thead>\n",
       "    <tr style=\"text-align: right;\">\n",
       "      <th></th>\n",
       "      <th>hpi_type</th>\n",
       "      <th>hpi_flavor</th>\n",
       "      <th>frequency</th>\n",
       "      <th>level</th>\n",
       "      <th>index_sa</th>\n",
       "      <th>index_nsa</th>\n",
       "    </tr>\n",
       "  </thead>\n",
       "  <tbody>\n",
       "    <tr>\n",
       "      <th>0</th>\n",
       "      <td>traditional</td>\n",
       "      <td>purchase-only</td>\n",
       "      <td>monthly</td>\n",
       "      <td>USA or Census Division</td>\n",
       "      <td>100.0</td>\n",
       "      <td>100.0</td>\n",
       "    </tr>\n",
       "  </tbody>\n",
       "</table>\n",
       "</div>"
      ],
      "text/plain": [
       "      hpi_type     hpi_flavor frequency                   level  index_sa  \\\n",
       "0  traditional  purchase-only   monthly  USA or Census Division     100.0   \n",
       "\n",
       "   index_nsa  \n",
       "0      100.0  "
      ]
     },
     "execution_count": 22,
     "metadata": {},
     "output_type": "execute_result"
    }
   ],
   "source": [
    "df_hpi.head(1)"
   ]
  },
  {
   "cell_type": "code",
   "execution_count": null,
   "id": "1579e4f7-6878-4162-af37-982a619189e2",
   "metadata": {},
   "outputs": [],
   "source": []
  },
  {
   "cell_type": "code",
   "execution_count": 23,
   "id": "da9edd7d-58cd-497e-8c82-c322f2b9a874",
   "metadata": {},
   "outputs": [
    {
     "data": {
      "text/html": [
       "<div>\n",
       "<style scoped>\n",
       "    .dataframe tbody tr th:only-of-type {\n",
       "        vertical-align: middle;\n",
       "    }\n",
       "\n",
       "    .dataframe tbody tr th {\n",
       "        vertical-align: top;\n",
       "    }\n",
       "\n",
       "    .dataframe thead th {\n",
       "        text-align: right;\n",
       "    }\n",
       "</style>\n",
       "<table border=\"1\" class=\"dataframe\">\n",
       "  <thead>\n",
       "    <tr style=\"text-align: right;\">\n",
       "      <th></th>\n",
       "      <th>index_sa</th>\n",
       "      <th>index_nsa</th>\n",
       "      <th>hpi_type_developmental</th>\n",
       "      <th>hpi_type_distress-free</th>\n",
       "      <th>hpi_type_traditional</th>\n",
       "      <th>hpi_flavor_expanded-data</th>\n",
       "      <th>hpi_flavor_purchase-only</th>\n",
       "      <th>frequency_monthly</th>\n",
       "      <th>frequency_quarterly</th>\n",
       "      <th>level_MSA</th>\n",
       "      <th>level_Puerto Rico</th>\n",
       "      <th>level_State</th>\n",
       "      <th>level_USA or Census Division</th>\n",
       "    </tr>\n",
       "  </thead>\n",
       "  <tbody>\n",
       "    <tr>\n",
       "      <th>0</th>\n",
       "      <td>100.00</td>\n",
       "      <td>100.00</td>\n",
       "      <td>False</td>\n",
       "      <td>False</td>\n",
       "      <td>True</td>\n",
       "      <td>False</td>\n",
       "      <td>True</td>\n",
       "      <td>True</td>\n",
       "      <td>False</td>\n",
       "      <td>False</td>\n",
       "      <td>False</td>\n",
       "      <td>False</td>\n",
       "      <td>True</td>\n",
       "    </tr>\n",
       "    <tr>\n",
       "      <th>1</th>\n",
       "      <td>101.11</td>\n",
       "      <td>101.03</td>\n",
       "      <td>False</td>\n",
       "      <td>False</td>\n",
       "      <td>True</td>\n",
       "      <td>False</td>\n",
       "      <td>True</td>\n",
       "      <td>True</td>\n",
       "      <td>False</td>\n",
       "      <td>False</td>\n",
       "      <td>False</td>\n",
       "      <td>False</td>\n",
       "      <td>True</td>\n",
       "    </tr>\n",
       "    <tr>\n",
       "      <th>2</th>\n",
       "      <td>101.08</td>\n",
       "      <td>101.40</td>\n",
       "      <td>False</td>\n",
       "      <td>False</td>\n",
       "      <td>True</td>\n",
       "      <td>False</td>\n",
       "      <td>True</td>\n",
       "      <td>True</td>\n",
       "      <td>False</td>\n",
       "      <td>False</td>\n",
       "      <td>False</td>\n",
       "      <td>False</td>\n",
       "      <td>True</td>\n",
       "    </tr>\n",
       "    <tr>\n",
       "      <th>3</th>\n",
       "      <td>101.10</td>\n",
       "      <td>101.79</td>\n",
       "      <td>False</td>\n",
       "      <td>False</td>\n",
       "      <td>True</td>\n",
       "      <td>False</td>\n",
       "      <td>True</td>\n",
       "      <td>True</td>\n",
       "      <td>False</td>\n",
       "      <td>False</td>\n",
       "      <td>False</td>\n",
       "      <td>False</td>\n",
       "      <td>True</td>\n",
       "    </tr>\n",
       "    <tr>\n",
       "      <th>4</th>\n",
       "      <td>101.50</td>\n",
       "      <td>102.44</td>\n",
       "      <td>False</td>\n",
       "      <td>False</td>\n",
       "      <td>True</td>\n",
       "      <td>False</td>\n",
       "      <td>True</td>\n",
       "      <td>True</td>\n",
       "      <td>False</td>\n",
       "      <td>False</td>\n",
       "      <td>False</td>\n",
       "      <td>False</td>\n",
       "      <td>True</td>\n",
       "    </tr>\n",
       "    <tr>\n",
       "      <th>...</th>\n",
       "      <td>...</td>\n",
       "      <td>...</td>\n",
       "      <td>...</td>\n",
       "      <td>...</td>\n",
       "      <td>...</td>\n",
       "      <td>...</td>\n",
       "      <td>...</td>\n",
       "      <td>...</td>\n",
       "      <td>...</td>\n",
       "      <td>...</td>\n",
       "      <td>...</td>\n",
       "      <td>...</td>\n",
       "      <td>...</td>\n",
       "    </tr>\n",
       "    <tr>\n",
       "      <th>99320</th>\n",
       "      <td>158.62</td>\n",
       "      <td>160.23</td>\n",
       "      <td>True</td>\n",
       "      <td>False</td>\n",
       "      <td>False</td>\n",
       "      <td>False</td>\n",
       "      <td>True</td>\n",
       "      <td>False</td>\n",
       "      <td>True</td>\n",
       "      <td>False</td>\n",
       "      <td>True</td>\n",
       "      <td>False</td>\n",
       "      <td>False</td>\n",
       "    </tr>\n",
       "    <tr>\n",
       "      <th>99321</th>\n",
       "      <td>161.27</td>\n",
       "      <td>159.54</td>\n",
       "      <td>True</td>\n",
       "      <td>False</td>\n",
       "      <td>False</td>\n",
       "      <td>False</td>\n",
       "      <td>True</td>\n",
       "      <td>False</td>\n",
       "      <td>True</td>\n",
       "      <td>False</td>\n",
       "      <td>True</td>\n",
       "      <td>False</td>\n",
       "      <td>False</td>\n",
       "    </tr>\n",
       "    <tr>\n",
       "      <th>99322</th>\n",
       "      <td>152.81</td>\n",
       "      <td>155.14</td>\n",
       "      <td>True</td>\n",
       "      <td>False</td>\n",
       "      <td>False</td>\n",
       "      <td>False</td>\n",
       "      <td>True</td>\n",
       "      <td>False</td>\n",
       "      <td>True</td>\n",
       "      <td>False</td>\n",
       "      <td>True</td>\n",
       "      <td>False</td>\n",
       "      <td>False</td>\n",
       "    </tr>\n",
       "    <tr>\n",
       "      <th>99323</th>\n",
       "      <td>154.71</td>\n",
       "      <td>150.61</td>\n",
       "      <td>True</td>\n",
       "      <td>False</td>\n",
       "      <td>False</td>\n",
       "      <td>False</td>\n",
       "      <td>True</td>\n",
       "      <td>False</td>\n",
       "      <td>True</td>\n",
       "      <td>False</td>\n",
       "      <td>True</td>\n",
       "      <td>False</td>\n",
       "      <td>False</td>\n",
       "    </tr>\n",
       "    <tr>\n",
       "      <th>99324</th>\n",
       "      <td>163.82</td>\n",
       "      <td>165.45</td>\n",
       "      <td>True</td>\n",
       "      <td>False</td>\n",
       "      <td>False</td>\n",
       "      <td>False</td>\n",
       "      <td>True</td>\n",
       "      <td>False</td>\n",
       "      <td>True</td>\n",
       "      <td>False</td>\n",
       "      <td>True</td>\n",
       "      <td>False</td>\n",
       "      <td>False</td>\n",
       "    </tr>\n",
       "  </tbody>\n",
       "</table>\n",
       "<p>32134 rows × 13 columns</p>\n",
       "</div>"
      ],
      "text/plain": [
       "       index_sa  index_nsa  hpi_type_developmental  hpi_type_distress-free  \\\n",
       "0        100.00     100.00                   False                   False   \n",
       "1        101.11     101.03                   False                   False   \n",
       "2        101.08     101.40                   False                   False   \n",
       "3        101.10     101.79                   False                   False   \n",
       "4        101.50     102.44                   False                   False   \n",
       "...         ...        ...                     ...                     ...   \n",
       "99320    158.62     160.23                    True                   False   \n",
       "99321    161.27     159.54                    True                   False   \n",
       "99322    152.81     155.14                    True                   False   \n",
       "99323    154.71     150.61                    True                   False   \n",
       "99324    163.82     165.45                    True                   False   \n",
       "\n",
       "       hpi_type_traditional  hpi_flavor_expanded-data  \\\n",
       "0                      True                     False   \n",
       "1                      True                     False   \n",
       "2                      True                     False   \n",
       "3                      True                     False   \n",
       "4                      True                     False   \n",
       "...                     ...                       ...   \n",
       "99320                 False                     False   \n",
       "99321                 False                     False   \n",
       "99322                 False                     False   \n",
       "99323                 False                     False   \n",
       "99324                 False                     False   \n",
       "\n",
       "       hpi_flavor_purchase-only  frequency_monthly  frequency_quarterly  \\\n",
       "0                          True               True                False   \n",
       "1                          True               True                False   \n",
       "2                          True               True                False   \n",
       "3                          True               True                False   \n",
       "4                          True               True                False   \n",
       "...                         ...                ...                  ...   \n",
       "99320                      True              False                 True   \n",
       "99321                      True              False                 True   \n",
       "99322                      True              False                 True   \n",
       "99323                      True              False                 True   \n",
       "99324                      True              False                 True   \n",
       "\n",
       "       level_MSA  level_Puerto Rico  level_State  level_USA or Census Division  \n",
       "0          False              False        False                          True  \n",
       "1          False              False        False                          True  \n",
       "2          False              False        False                          True  \n",
       "3          False              False        False                          True  \n",
       "4          False              False        False                          True  \n",
       "...          ...                ...          ...                           ...  \n",
       "99320      False               True        False                         False  \n",
       "99321      False               True        False                         False  \n",
       "99322      False               True        False                         False  \n",
       "99323      False               True        False                         False  \n",
       "99324      False               True        False                         False  \n",
       "\n",
       "[32134 rows x 13 columns]"
      ]
     },
     "execution_count": 23,
     "metadata": {},
     "output_type": "execute_result"
    }
   ],
   "source": [
    "# Turn the categories into numbers\n",
    "\n",
    "\n",
    "categorical_cols =[\"hpi_type\",\"hpi_flavor\",\"frequency\",\"level\"]\n",
    "#use get_dummies \n",
    "df_dummies = pd.get_dummies(df_hpi, columns=categorical_cols)\n",
    "df_dummies\n"
   ]
  },
  {
   "cell_type": "code",
   "execution_count": 24,
   "id": "b6406aec-153d-4f11-828f-ab8cfcb30c73",
   "metadata": {},
   "outputs": [],
   "source": [
    "\n",
    "columns_to_convert = df_dummies.columns[2:]  # This selects all columns starting from the third column\n",
    "\n",
    "# Convert these columns to integers\n",
    "df_dummies[columns_to_convert] = df_dummies[columns_to_convert].apply(lambda x: x.astype(int))"
   ]
  },
  {
   "cell_type": "code",
   "execution_count": 25,
   "id": "8b8512b7-1af2-401a-a861-ff005f71f95b",
   "metadata": {},
   "outputs": [
    {
     "data": {
      "text/html": [
       "<div>\n",
       "<style scoped>\n",
       "    .dataframe tbody tr th:only-of-type {\n",
       "        vertical-align: middle;\n",
       "    }\n",
       "\n",
       "    .dataframe tbody tr th {\n",
       "        vertical-align: top;\n",
       "    }\n",
       "\n",
       "    .dataframe thead th {\n",
       "        text-align: right;\n",
       "    }\n",
       "</style>\n",
       "<table border=\"1\" class=\"dataframe\">\n",
       "  <thead>\n",
       "    <tr style=\"text-align: right;\">\n",
       "      <th></th>\n",
       "      <th>index_sa</th>\n",
       "      <th>index_nsa</th>\n",
       "      <th>hpi_type_developmental</th>\n",
       "      <th>hpi_type_distress-free</th>\n",
       "      <th>hpi_type_traditional</th>\n",
       "      <th>hpi_flavor_expanded-data</th>\n",
       "      <th>hpi_flavor_purchase-only</th>\n",
       "      <th>frequency_monthly</th>\n",
       "      <th>frequency_quarterly</th>\n",
       "      <th>level_MSA</th>\n",
       "      <th>level_Puerto Rico</th>\n",
       "      <th>level_State</th>\n",
       "      <th>level_USA or Census Division</th>\n",
       "    </tr>\n",
       "  </thead>\n",
       "  <tbody>\n",
       "    <tr>\n",
       "      <th>0</th>\n",
       "      <td>100.00</td>\n",
       "      <td>100.00</td>\n",
       "      <td>0</td>\n",
       "      <td>0</td>\n",
       "      <td>1</td>\n",
       "      <td>0</td>\n",
       "      <td>1</td>\n",
       "      <td>1</td>\n",
       "      <td>0</td>\n",
       "      <td>0</td>\n",
       "      <td>0</td>\n",
       "      <td>0</td>\n",
       "      <td>1</td>\n",
       "    </tr>\n",
       "    <tr>\n",
       "      <th>1</th>\n",
       "      <td>101.11</td>\n",
       "      <td>101.03</td>\n",
       "      <td>0</td>\n",
       "      <td>0</td>\n",
       "      <td>1</td>\n",
       "      <td>0</td>\n",
       "      <td>1</td>\n",
       "      <td>1</td>\n",
       "      <td>0</td>\n",
       "      <td>0</td>\n",
       "      <td>0</td>\n",
       "      <td>0</td>\n",
       "      <td>1</td>\n",
       "    </tr>\n",
       "  </tbody>\n",
       "</table>\n",
       "</div>"
      ],
      "text/plain": [
       "   index_sa  index_nsa  hpi_type_developmental  hpi_type_distress-free  \\\n",
       "0    100.00     100.00                       0                       0   \n",
       "1    101.11     101.03                       0                       0   \n",
       "\n",
       "   hpi_type_traditional  hpi_flavor_expanded-data  hpi_flavor_purchase-only  \\\n",
       "0                     1                         0                         1   \n",
       "1                     1                         0                         1   \n",
       "\n",
       "   frequency_monthly  frequency_quarterly  level_MSA  level_Puerto Rico  \\\n",
       "0                  1                    0          0                  0   \n",
       "1                  1                    0          0                  0   \n",
       "\n",
       "   level_State  level_USA or Census Division  \n",
       "0            0                             1  \n",
       "1            0                             1  "
      ]
     },
     "execution_count": 25,
     "metadata": {},
     "output_type": "execute_result"
    }
   ],
   "source": [
    "df_dummies.head(2)\n"
   ]
  },
  {
   "cell_type": "code",
   "execution_count": 26,
   "id": "719bc11f-2a77-488b-b7ab-b4ec19c72ce9",
   "metadata": {},
   "outputs": [],
   "source": [
    "#the average hpi_nsa varies depends on the hpi_type,hpi_flavor,frequenc and level\n",
    "#features dropped yr, period,place name and place id\n",
    "Y = df_dummies[\"index_nsa\"]\n",
    "X= df_dummies.drop([\"index_nsa\"],axis = 1)"
   ]
  },
  {
   "cell_type": "code",
   "execution_count": 27,
   "id": "f0eb956d-b0c1-4ab1-ad5c-6609415ed735",
   "metadata": {},
   "outputs": [],
   "source": [
    "#Spliting the data into Train and Test"
   ]
  },
  {
   "cell_type": "code",
   "execution_count": 28,
   "id": "aa1ac2b2-9135-430e-a18f-1d3c3019e538",
   "metadata": {},
   "outputs": [],
   "source": [
    "from sklearn.linear_model import LinearRegression\n",
    "from sklearn.model_selection import train_test_split\n",
    "X_train,X_test,Y_train,Y_test=train_test_split(X,Y,test_size =0.2, random_state =0)"
   ]
  },
  {
   "cell_type": "code",
   "execution_count": 41,
   "id": "eb096292-605b-4985-8c7a-76a83cb00113",
   "metadata": {},
   "outputs": [
    {
     "data": {
      "text/plain": [
       "((6427, 12), (6427,))"
      ]
     },
     "execution_count": 41,
     "metadata": {},
     "output_type": "execute_result"
    }
   ],
   "source": [
    "X_test.shape,Y_test.shape"
   ]
  },
  {
   "cell_type": "code",
   "execution_count": null,
   "id": "54586f11-5c49-4f7a-9667-7785564e86cd",
   "metadata": {},
   "outputs": [],
   "source": []
  },
  {
   "cell_type": "code",
   "execution_count": 29,
   "id": "6109f3b6-2e9f-460a-9289-d7142db7c1e6",
   "metadata": {},
   "outputs": [],
   "source": [
    "#create regressor\n",
    "reg = LinearRegression()"
   ]
  },
  {
   "cell_type": "code",
   "execution_count": 30,
   "id": "98a182bc-9678-4a6b-8158-22e87391b22c",
   "metadata": {},
   "outputs": [
    {
     "data": {
      "text/html": [
       "<style>#sk-container-id-1 {color: black;background-color: white;}#sk-container-id-1 pre{padding: 0;}#sk-container-id-1 div.sk-toggleable {background-color: white;}#sk-container-id-1 label.sk-toggleable__label {cursor: pointer;display: block;width: 100%;margin-bottom: 0;padding: 0.3em;box-sizing: border-box;text-align: center;}#sk-container-id-1 label.sk-toggleable__label-arrow:before {content: \"▸\";float: left;margin-right: 0.25em;color: #696969;}#sk-container-id-1 label.sk-toggleable__label-arrow:hover:before {color: black;}#sk-container-id-1 div.sk-estimator:hover label.sk-toggleable__label-arrow:before {color: black;}#sk-container-id-1 div.sk-toggleable__content {max-height: 0;max-width: 0;overflow: hidden;text-align: left;background-color: #f0f8ff;}#sk-container-id-1 div.sk-toggleable__content pre {margin: 0.2em;color: black;border-radius: 0.25em;background-color: #f0f8ff;}#sk-container-id-1 input.sk-toggleable__control:checked~div.sk-toggleable__content {max-height: 200px;max-width: 100%;overflow: auto;}#sk-container-id-1 input.sk-toggleable__control:checked~label.sk-toggleable__label-arrow:before {content: \"▾\";}#sk-container-id-1 div.sk-estimator input.sk-toggleable__control:checked~label.sk-toggleable__label {background-color: #d4ebff;}#sk-container-id-1 div.sk-label input.sk-toggleable__control:checked~label.sk-toggleable__label {background-color: #d4ebff;}#sk-container-id-1 input.sk-hidden--visually {border: 0;clip: rect(1px 1px 1px 1px);clip: rect(1px, 1px, 1px, 1px);height: 1px;margin: -1px;overflow: hidden;padding: 0;position: absolute;width: 1px;}#sk-container-id-1 div.sk-estimator {font-family: monospace;background-color: #f0f8ff;border: 1px dotted black;border-radius: 0.25em;box-sizing: border-box;margin-bottom: 0.5em;}#sk-container-id-1 div.sk-estimator:hover {background-color: #d4ebff;}#sk-container-id-1 div.sk-parallel-item::after {content: \"\";width: 100%;border-bottom: 1px solid gray;flex-grow: 1;}#sk-container-id-1 div.sk-label:hover label.sk-toggleable__label {background-color: #d4ebff;}#sk-container-id-1 div.sk-serial::before {content: \"\";position: absolute;border-left: 1px solid gray;box-sizing: border-box;top: 0;bottom: 0;left: 50%;z-index: 0;}#sk-container-id-1 div.sk-serial {display: flex;flex-direction: column;align-items: center;background-color: white;padding-right: 0.2em;padding-left: 0.2em;position: relative;}#sk-container-id-1 div.sk-item {position: relative;z-index: 1;}#sk-container-id-1 div.sk-parallel {display: flex;align-items: stretch;justify-content: center;background-color: white;position: relative;}#sk-container-id-1 div.sk-item::before, #sk-container-id-1 div.sk-parallel-item::before {content: \"\";position: absolute;border-left: 1px solid gray;box-sizing: border-box;top: 0;bottom: 0;left: 50%;z-index: -1;}#sk-container-id-1 div.sk-parallel-item {display: flex;flex-direction: column;z-index: 1;position: relative;background-color: white;}#sk-container-id-1 div.sk-parallel-item:first-child::after {align-self: flex-end;width: 50%;}#sk-container-id-1 div.sk-parallel-item:last-child::after {align-self: flex-start;width: 50%;}#sk-container-id-1 div.sk-parallel-item:only-child::after {width: 0;}#sk-container-id-1 div.sk-dashed-wrapped {border: 1px dashed gray;margin: 0 0.4em 0.5em 0.4em;box-sizing: border-box;padding-bottom: 0.4em;background-color: white;}#sk-container-id-1 div.sk-label label {font-family: monospace;font-weight: bold;display: inline-block;line-height: 1.2em;}#sk-container-id-1 div.sk-label-container {text-align: center;}#sk-container-id-1 div.sk-container {/* jupyter's `normalize.less` sets `[hidden] { display: none; }` but bootstrap.min.css set `[hidden] { display: none !important; }` so we also need the `!important` here to be able to override the default hidden behavior on the sphinx rendered scikit-learn.org. See: https://github.com/scikit-learn/scikit-learn/issues/21755 */display: inline-block !important;position: relative;}#sk-container-id-1 div.sk-text-repr-fallback {display: none;}</style><div id=\"sk-container-id-1\" class=\"sk-top-container\"><div class=\"sk-text-repr-fallback\"><pre>LinearRegression()</pre><b>In a Jupyter environment, please rerun this cell to show the HTML representation or trust the notebook. <br />On GitHub, the HTML representation is unable to render, please try loading this page with nbviewer.org.</b></div><div class=\"sk-container\" hidden><div class=\"sk-item\"><div class=\"sk-estimator sk-toggleable\"><input class=\"sk-toggleable__control sk-hidden--visually\" id=\"sk-estimator-id-1\" type=\"checkbox\" checked><label for=\"sk-estimator-id-1\" class=\"sk-toggleable__label sk-toggleable__label-arrow\">LinearRegression</label><div class=\"sk-toggleable__content\"><pre>LinearRegression()</pre></div></div></div></div></div>"
      ],
      "text/plain": [
       "LinearRegression()"
      ]
     },
     "execution_count": 30,
     "metadata": {},
     "output_type": "execute_result"
    }
   ],
   "source": [
    "reg\n"
   ]
  },
  {
   "cell_type": "code",
   "execution_count": 31,
   "id": "e7229959-434e-4853-8c17-0d123e7732f7",
   "metadata": {},
   "outputs": [
    {
     "data": {
      "text/html": [
       "<style>#sk-container-id-2 {color: black;background-color: white;}#sk-container-id-2 pre{padding: 0;}#sk-container-id-2 div.sk-toggleable {background-color: white;}#sk-container-id-2 label.sk-toggleable__label {cursor: pointer;display: block;width: 100%;margin-bottom: 0;padding: 0.3em;box-sizing: border-box;text-align: center;}#sk-container-id-2 label.sk-toggleable__label-arrow:before {content: \"▸\";float: left;margin-right: 0.25em;color: #696969;}#sk-container-id-2 label.sk-toggleable__label-arrow:hover:before {color: black;}#sk-container-id-2 div.sk-estimator:hover label.sk-toggleable__label-arrow:before {color: black;}#sk-container-id-2 div.sk-toggleable__content {max-height: 0;max-width: 0;overflow: hidden;text-align: left;background-color: #f0f8ff;}#sk-container-id-2 div.sk-toggleable__content pre {margin: 0.2em;color: black;border-radius: 0.25em;background-color: #f0f8ff;}#sk-container-id-2 input.sk-toggleable__control:checked~div.sk-toggleable__content {max-height: 200px;max-width: 100%;overflow: auto;}#sk-container-id-2 input.sk-toggleable__control:checked~label.sk-toggleable__label-arrow:before {content: \"▾\";}#sk-container-id-2 div.sk-estimator input.sk-toggleable__control:checked~label.sk-toggleable__label {background-color: #d4ebff;}#sk-container-id-2 div.sk-label input.sk-toggleable__control:checked~label.sk-toggleable__label {background-color: #d4ebff;}#sk-container-id-2 input.sk-hidden--visually {border: 0;clip: rect(1px 1px 1px 1px);clip: rect(1px, 1px, 1px, 1px);height: 1px;margin: -1px;overflow: hidden;padding: 0;position: absolute;width: 1px;}#sk-container-id-2 div.sk-estimator {font-family: monospace;background-color: #f0f8ff;border: 1px dotted black;border-radius: 0.25em;box-sizing: border-box;margin-bottom: 0.5em;}#sk-container-id-2 div.sk-estimator:hover {background-color: #d4ebff;}#sk-container-id-2 div.sk-parallel-item::after {content: \"\";width: 100%;border-bottom: 1px solid gray;flex-grow: 1;}#sk-container-id-2 div.sk-label:hover label.sk-toggleable__label {background-color: #d4ebff;}#sk-container-id-2 div.sk-serial::before {content: \"\";position: absolute;border-left: 1px solid gray;box-sizing: border-box;top: 0;bottom: 0;left: 50%;z-index: 0;}#sk-container-id-2 div.sk-serial {display: flex;flex-direction: column;align-items: center;background-color: white;padding-right: 0.2em;padding-left: 0.2em;position: relative;}#sk-container-id-2 div.sk-item {position: relative;z-index: 1;}#sk-container-id-2 div.sk-parallel {display: flex;align-items: stretch;justify-content: center;background-color: white;position: relative;}#sk-container-id-2 div.sk-item::before, #sk-container-id-2 div.sk-parallel-item::before {content: \"\";position: absolute;border-left: 1px solid gray;box-sizing: border-box;top: 0;bottom: 0;left: 50%;z-index: -1;}#sk-container-id-2 div.sk-parallel-item {display: flex;flex-direction: column;z-index: 1;position: relative;background-color: white;}#sk-container-id-2 div.sk-parallel-item:first-child::after {align-self: flex-end;width: 50%;}#sk-container-id-2 div.sk-parallel-item:last-child::after {align-self: flex-start;width: 50%;}#sk-container-id-2 div.sk-parallel-item:only-child::after {width: 0;}#sk-container-id-2 div.sk-dashed-wrapped {border: 1px dashed gray;margin: 0 0.4em 0.5em 0.4em;box-sizing: border-box;padding-bottom: 0.4em;background-color: white;}#sk-container-id-2 div.sk-label label {font-family: monospace;font-weight: bold;display: inline-block;line-height: 1.2em;}#sk-container-id-2 div.sk-label-container {text-align: center;}#sk-container-id-2 div.sk-container {/* jupyter's `normalize.less` sets `[hidden] { display: none; }` but bootstrap.min.css set `[hidden] { display: none !important; }` so we also need the `!important` here to be able to override the default hidden behavior on the sphinx rendered scikit-learn.org. See: https://github.com/scikit-learn/scikit-learn/issues/21755 */display: inline-block !important;position: relative;}#sk-container-id-2 div.sk-text-repr-fallback {display: none;}</style><div id=\"sk-container-id-2\" class=\"sk-top-container\"><div class=\"sk-text-repr-fallback\"><pre>LinearRegression()</pre><b>In a Jupyter environment, please rerun this cell to show the HTML representation or trust the notebook. <br />On GitHub, the HTML representation is unable to render, please try loading this page with nbviewer.org.</b></div><div class=\"sk-container\" hidden><div class=\"sk-item\"><div class=\"sk-estimator sk-toggleable\"><input class=\"sk-toggleable__control sk-hidden--visually\" id=\"sk-estimator-id-2\" type=\"checkbox\" checked><label for=\"sk-estimator-id-2\" class=\"sk-toggleable__label sk-toggleable__label-arrow\">LinearRegression</label><div class=\"sk-toggleable__content\"><pre>LinearRegression()</pre></div></div></div></div></div>"
      ],
      "text/plain": [
       "LinearRegression()"
      ]
     },
     "execution_count": 31,
     "metadata": {},
     "output_type": "execute_result"
    }
   ],
   "source": [
    "#Train or Fit the training data (calculate the coeficients)\n",
    "reg.fit(X_train,Y_train)"
   ]
  },
  {
   "cell_type": "code",
   "execution_count": null,
   "id": "f381bad0-0f89-4029-b496-526afe475fbc",
   "metadata": {},
   "outputs": [],
   "source": []
  },
  {
   "cell_type": "code",
   "execution_count": 32,
   "id": "22030d89-f725-4296-a0da-11f063c963cb",
   "metadata": {},
   "outputs": [
    {
     "data": {
      "text/plain": [
       "0.9992167488098224"
      ]
     },
     "execution_count": 32,
     "metadata": {},
     "output_type": "execute_result"
    }
   ],
   "source": [
    "r2_train=reg.score(X_train,Y_train)\n",
    "r2_train"
   ]
  },
  {
   "cell_type": "code",
   "execution_count": 33,
   "id": "867749ac-48e9-497a-84ae-e353d8f87032",
   "metadata": {},
   "outputs": [
    {
     "data": {
      "text/plain": [
       "0.9992298022293251"
      ]
     },
     "execution_count": 33,
     "metadata": {},
     "output_type": "execute_result"
    }
   ],
   "source": [
    "r2_test=reg.score(X_test,Y_test)\n",
    "r2_test"
   ]
  },
  {
   "cell_type": "code",
   "execution_count": 34,
   "id": "285aecdf-297d-4398-94dd-253f48bf541d",
   "metadata": {},
   "outputs": [
    {
     "data": {
      "text/plain": [
       "array([130.79410014, 116.86368453, 112.5039875 , ..., 158.66869517,\n",
       "       202.66713106, 285.23500727])"
      ]
     },
     "execution_count": 34,
     "metadata": {},
     "output_type": "execute_result"
    }
   ],
   "source": [
    "Y_predict = reg.predict(X_test)\n",
    "Y_predict"
   ]
  },
  {
   "cell_type": "code",
   "execution_count": 35,
   "id": "af84a5df-5dcf-433a-85a4-91623c56d37c",
   "metadata": {},
   "outputs": [
    {
     "data": {
      "text/plain": [
       "array([ 1.00495124, -0.43005927,  0.18064873,  0.24941054,  0.05072811,\n",
       "       -0.05072811,  0.18830367, -0.18830367,  0.12883313, -0.43005927,\n",
       "        0.15719029,  0.14403585])"
      ]
     },
     "execution_count": 35,
     "metadata": {},
     "output_type": "execute_result"
    }
   ],
   "source": [
    "coefficients = reg.coef_\n",
    "coefficients"
   ]
  },
  {
   "cell_type": "code",
   "execution_count": 36,
   "id": "4e6273c3-b2b2-4b77-8fbb-e60cec6062f0",
   "metadata": {},
   "outputs": [
    {
     "data": {
      "text/plain": [
       "-0.3816655205704933"
      ]
     },
     "execution_count": 36,
     "metadata": {},
     "output_type": "execute_result"
    }
   ],
   "source": [
    "intercept = reg.intercept_\n",
    "intercept"
   ]
  },
  {
   "cell_type": "code",
   "execution_count": 37,
   "id": "fe4da417-5241-4dae-8653-6315f5bb66d9",
   "metadata": {},
   "outputs": [
    {
     "data": {
      "text/plain": [
       "1.5350265977267492"
      ]
     },
     "execution_count": 37,
     "metadata": {},
     "output_type": "execute_result"
    }
   ],
   "source": [
    "\n",
    "from sklearn.metrics import mean_squared_error\n",
    "import math\n",
    "rmse = math.sqrt(mean_squared_error(Y_test,Y_predict))\n",
    "rmse"
   ]
  },
  {
   "cell_type": "code",
   "execution_count": null,
   "id": "b3d27cb7-9193-4211-99b2-46878a952096",
   "metadata": {},
   "outputs": [],
   "source": []
  },
  {
   "cell_type": "code",
   "execution_count": null,
   "id": "ba365f02-8048-40ea-b2e3-ec31497f4db1",
   "metadata": {},
   "outputs": [],
   "source": []
  }
 ],
 "metadata": {
  "kernelspec": {
   "display_name": "Python 3 (ipykernel)",
   "language": "python",
   "name": "python3"
  },
  "language_info": {
   "codemirror_mode": {
    "name": "ipython",
    "version": 3
   },
   "file_extension": ".py",
   "mimetype": "text/x-python",
   "name": "python",
   "nbconvert_exporter": "python",
   "pygments_lexer": "ipython3",
   "version": "3.11.5"
  },
  "widgets": {
   "application/vnd.jupyter.widget-state+json": {
    "state": {},
    "version_major": 2,
    "version_minor": 0
   }
  }
 },
 "nbformat": 4,
 "nbformat_minor": 5
}
